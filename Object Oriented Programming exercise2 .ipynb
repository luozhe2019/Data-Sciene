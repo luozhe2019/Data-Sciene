{
 "cells": [
  {
   "cell_type": "code",
   "execution_count": 2,
   "id": "4663bf5d",
   "metadata": {},
   "outputs": [
    {
     "name": "stdout",
     "output_type": "stream",
     "text": [
      "hello,My namle isJackie Chan,how are you\n",
      "hello,My namle isDenzel Washington,do you watch my movie\n"
     ]
    }
   ],
   "source": [
    "class Student:\n",
    "    name = None # 学生姓名\n",
    "    def say_hi(self):\n",
    "        print(f\"hello,My name is {self.name}\")\n",
    "    \n",
    "    def say_hi2(self,msg):\n",
    "        print(f\"hello,My namle is{self.name},{msg}\")\n",
    "\n",
    "stu = Student()\n",
    "stu.name =\"Jackie Chan\"\n",
    "stu.say_hi2(\"how are you\")\n",
    "\n",
    "stu2 = Student()\n",
    "stu2.name =\"Denzel Washington\"\n",
    "stu2.say_hi2(\"do you watch my movie?\")\n",
    "\n"
   ]
  },
  {
   "cell_type": "code",
   "execution_count": 3,
   "id": "245b163f",
   "metadata": {},
   "outputs": [],
   "source": [
    "class clock:\n",
    "    id = None\n",
    "    price = None\n",
    "    \n",
    "    def ring(self):\n",
    "        import winsound\n",
    "        winsound.beep(2000,3000)"
   ]
  },
  {
   "cell_type": "code",
   "execution_count": 4,
   "id": "5329925f",
   "metadata": {},
   "outputs": [
    {
     "name": "stdout",
     "output_type": "stream",
     "text": [
      "ID:003032,Price:19.99\n"
     ]
    },
    {
     "data": {
      "text/plain": [
       "<bound method clock.ring of <__main__.clock object at 0x0000023F00A77978>>"
      ]
     },
     "execution_count": 4,
     "metadata": {},
     "output_type": "execute_result"
    }
   ],
   "source": [
    "clock1 = clock()\n",
    "clock1.id = \"003032\"\n",
    "clock1.price = 19.99\n",
    "print(f\"ID:{clock1.id},Price:{clock1.price}\")\n",
    "clock1.ring"
   ]
  },
  {
   "cell_type": "code",
   "execution_count": null,
   "id": "04317c0a",
   "metadata": {},
   "outputs": [],
   "source": []
  }
 ],
 "metadata": {
  "kernelspec": {
   "display_name": "Python 3",
   "language": "python",
   "name": "python3"
  },
  "language_info": {
   "codemirror_mode": {
    "name": "ipython",
    "version": 3
   },
   "file_extension": ".py",
   "mimetype": "text/x-python",
   "name": "python",
   "nbconvert_exporter": "python",
   "pygments_lexer": "ipython3",
   "version": "3.6.13"
  }
 },
 "nbformat": 4,
 "nbformat_minor": 5
}
