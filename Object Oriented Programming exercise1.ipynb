{
 "cells": [
  {
   "cell_type": "code",
   "execution_count": 8,
   "id": "e7680d9e",
   "metadata": {},
   "outputs": [],
   "source": [
    "class Phone:\n",
    "    __is_5g_enable = False\n",
    "    \n",
    "    def __check_5g(self):\n",
    "        if self.__is_5g_enable == True:\n",
    "            print(\"5G Open\")\n",
    "        else:\n",
    "            print(\"5G close，use4G net\")\n",
    "    def call_by_5g(self):\n",
    "        self.__check_5g()\n",
    "        print(\"on a call\")\n",
    "    "
   ]
  },
  {
   "cell_type": "code",
   "execution_count": 9,
   "id": "5bfc0e87",
   "metadata": {},
   "outputs": [
    {
     "name": "stdout",
     "output_type": "stream",
     "text": [
      "5G close，use4G net\n",
      "on a call\n"
     ]
    }
   ],
   "source": [
    "ph = Phone()\n",
    "ph.call_by_5g()"
   ]
  },
  {
   "cell_type": "code",
   "execution_count": null,
   "id": "85595a05",
   "metadata": {},
   "outputs": [],
   "source": []
  }
 ],
 "metadata": {
  "kernelspec": {
   "display_name": "Python 3",
   "language": "python",
   "name": "python3"
  },
  "language_info": {
   "codemirror_mode": {
    "name": "ipython",
    "version": 3
   },
   "file_extension": ".py",
   "mimetype": "text/x-python",
   "name": "python",
   "nbconvert_exporter": "python",
   "pygments_lexer": "ipython3",
   "version": "3.6.13"
  }
 },
 "nbformat": 4,
 "nbformat_minor": 5
}
