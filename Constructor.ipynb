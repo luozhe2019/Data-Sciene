{
 "cells": [
  {
   "cell_type": "markdown",
   "id": "023a7725",
   "metadata": {},
   "source": [
    "Constructor:\n",
    "1 It will be executed automatically when constructing class objects.\n",
    "2When constructing a class object, parameters are passed to the constructor, and member variables can be assigned values by using this feature."
   ]
  },
  {
   "cell_type": "code",
   "execution_count": 2,
   "id": "f67bb8ed",
   "metadata": {},
   "outputs": [
    {
     "name": "stdout",
     "output_type": "stream",
     "text": [
      "The student class creates a class object\n",
      "Denzel Washington\n",
      "33\n",
      "1877667666\n"
     ]
    }
   ],
   "source": [
    "class Student:\n",
    "    name = None\n",
    "    age = None\n",
    "    tel = None\n",
    "    def __init__(self,name,age,tel):\n",
    "        self.name = name\n",
    "        self.age = age\n",
    "        self.tel = tel\n",
    "        print(\"The student class creates a class object\")\n",
    "stu = Student(\"Denzel Washington\",33,1877667666)\n",
    "print(stu.name)\n",
    "print(stu.age)\n",
    "print(stu.tel)\n",
    "\n"
   ]
  },
  {
   "cell_type": "code",
   "execution_count": null,
   "id": "96af036e",
   "metadata": {},
   "outputs": [],
   "source": []
  }
 ],
 "metadata": {
  "kernelspec": {
   "display_name": "Python 3",
   "language": "python",
   "name": "python3"
  },
  "language_info": {
   "codemirror_mode": {
    "name": "ipython",
    "version": 3
   },
   "file_extension": ".py",
   "mimetype": "text/x-python",
   "name": "python",
   "nbconvert_exporter": "python",
   "pygments_lexer": "ipython3",
   "version": "3.6.13"
  }
 },
 "nbformat": 4,
 "nbformat_minor": 5
}
